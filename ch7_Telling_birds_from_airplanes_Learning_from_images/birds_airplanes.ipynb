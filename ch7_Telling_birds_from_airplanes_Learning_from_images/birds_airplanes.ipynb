{
 "cells": [
  {
   "cell_type": "code",
   "execution_count": 43,
   "metadata": {},
   "outputs": [
    {
     "data": {
      "text/plain": [
       "<torch._C.Generator at 0x72b9ba94e4f0>"
      ]
     },
     "execution_count": 43,
     "metadata": {},
     "output_type": "execute_result"
    }
   ],
   "source": [
    "%matplotlib inline\n",
    "from matplotlib import pyplot as plt\n",
    "import numpy as np\n",
    "import torch\n",
    "\n",
    "torch.set_printoptions(edgeitems=2)\n",
    "torch.manual_seed(123)"
   ]
  },
  {
   "cell_type": "code",
   "execution_count": 44,
   "metadata": {},
   "outputs": [],
   "source": [
    "class_names = ['airplane','automobile','bird','cat','deer',\n",
    "               'dog','frog','horse','ship','truck']"
   ]
  },
  {
   "cell_type": "code",
   "execution_count": 45,
   "metadata": {},
   "outputs": [],
   "source": [
    "from torchvision import datasets, transforms\n",
    "\n",
    "data_path = '../data/ch7/'\n",
    "\n",
    "cifar10 = datasets.CIFAR10(\n",
    "    data_path, train=True, download=False,\n",
    "    transform=transforms.Compose([\n",
    "        transforms.ToTensor(),\n",
    "        transforms.Normalize((0.4915, 0.4823, 0.4468),\n",
    "                             (0.2470, 0.2435, 0.2616))\n",
    "    ]))"
   ]
  },
  {
   "cell_type": "code",
   "execution_count": 46,
   "metadata": {},
   "outputs": [],
   "source": [
    "cifar10_val = datasets.CIFAR10(\n",
    "    data_path, train=False, download=False,\n",
    "    transform=transforms.Compose([\n",
    "        transforms.ToTensor(),\n",
    "        transforms.Normalize((0.4915, 0.4823, 0.4468),\n",
    "                             (0.2470, 0.2435, 0.2616))\n",
    "    ]))"
   ]
  },
  {
   "cell_type": "code",
   "execution_count": 47,
   "metadata": {},
   "outputs": [],
   "source": [
    "label_map = {0: 0, 2: 1}\n",
    "class_names = ['airplane', 'bird']\n",
    "\n",
    "cifar2 = [(img, label_map[label])\n",
    "          for img, label in cifar10\n",
    "          if label in [0, 2]]\n",
    "\n",
    "cifar2_val = [(img, label_map[label]) \n",
    "              for img, label in cifar10_val\n",
    "              if label in [0, 2]]"
   ]
  },
  {
   "cell_type": "code",
   "execution_count": 48,
   "metadata": {},
   "outputs": [],
   "source": [
    "import torch.nn as nn\n",
    "\n",
    "n_out = 2\n",
    "\n",
    "model = nn.Sequential(\n",
    "            nn.Linear(3072, 512, ), # input features, hidden layer size\n",
    "            nn.Tanh(),\n",
    "            nn.Linear(512, n_out, ) # hidden layer size, output classes\n",
    ")"
   ]
  },
  {
   "cell_type": "code",
   "execution_count": 49,
   "metadata": {},
   "outputs": [],
   "source": [
    "def softmax(x):\n",
    "    return torch.exp(x) / torch.exp(x).sum()"
   ]
  },
  {
   "cell_type": "code",
   "execution_count": 50,
   "metadata": {},
   "outputs": [
    {
     "data": {
      "text/plain": [
       "tensor([0.0900, 0.2447, 0.6652])"
      ]
     },
     "execution_count": 50,
     "metadata": {},
     "output_type": "execute_result"
    }
   ],
   "source": [
    "x = torch.tensor([1.0, 2.0, 3.0])\n",
    "softmax(x)"
   ]
  },
  {
   "cell_type": "code",
   "execution_count": 51,
   "metadata": {},
   "outputs": [
    {
     "data": {
      "text/plain": [
       "tensor(1.)"
      ]
     },
     "execution_count": 51,
     "metadata": {},
     "output_type": "execute_result"
    }
   ],
   "source": [
    "softmax(x).sum()"
   ]
  },
  {
   "cell_type": "code",
   "execution_count": 52,
   "metadata": {},
   "outputs": [
    {
     "data": {
      "text/plain": [
       "tensor([[0.0900, 0.2447, 0.6652],\n",
       "        [0.0900, 0.2447, 0.6652]])"
      ]
     },
     "execution_count": 52,
     "metadata": {},
     "output_type": "execute_result"
    }
   ],
   "source": [
    "softmax = nn.Softmax(dim=1)\n",
    "\n",
    "x = torch.tensor([[1.0, 2.0, 3.0],\n",
    "                  [1.0, 2.0, 3.0]])\n",
    "\n",
    "softmax(x)"
   ]
  },
  {
   "cell_type": "code",
   "execution_count": 53,
   "metadata": {},
   "outputs": [],
   "source": [
    "model = nn.Sequential(\n",
    "            nn.Linear(3072, 512),\n",
    "            nn.Tanh(),\n",
    "            nn.Linear(512, 2),\n",
    "            nn.Softmax(dim=1)\n",
    ")\n"
   ]
  },
  {
   "cell_type": "code",
   "execution_count": 54,
   "metadata": {},
   "outputs": [
    {
     "name": "stderr",
     "output_type": "stream",
     "text": [
      "Clipping input data to the valid range for imshow with RGB data ([0..1] for floats or [0..255] for integers). Got range [-1.8628641..2.029448].\n"
     ]
    },
    {
     "data": {
      "image/png": "[encoded data removed]",
      "text/plain": [
       "<Figure size 640x480 with 1 Axes>"
      ]
     },
     "metadata": {},
     "output_type": "display_data"
    }
   ],
   "source": [
    "img, _ = cifar2[0]\n",
    "plt.imshow(img.permute(1, 2, 0))\n",
    "plt.show()"
   ]
  },
  {
   "cell_type": "code",
   "execution_count": 55,
   "metadata": {},
   "outputs": [],
   "source": [
    "img_batch = img.view(-1).unsqueeze(0)"
   ]
  },
  {
   "cell_type": "code",
   "execution_count": 56,
   "metadata": {},
   "outputs": [
    {
     "data": {
      "text/plain": [
       "tensor([[0.4784, 0.5216]], grad_fn=<SoftmaxBackward0>)"
      ]
     },
     "execution_count": 56,
     "metadata": {},
     "output_type": "execute_result"
    }
   ],
   "source": [
    "out = model(img_batch)\n",
    "out"
   ]
  },
  {
   "cell_type": "code",
   "execution_count": 57,
   "metadata": {},
   "outputs": [
    {
     "data": {
      "text/plain": [
       "tensor([1])"
      ]
     },
     "execution_count": 57,
     "metadata": {},
     "output_type": "execute_result"
    }
   ],
   "source": [
    "_, index = torch.max(out, dim=1)\n",
    "\n",
    "index"
   ]
  },
  {
   "cell_type": "code",
   "execution_count": 58,
   "metadata": {},
   "outputs": [],
   "source": [
    "model = nn.Sequential(\n",
    "            nn.Linear(3072, 512),\n",
    "            nn.Tanh(),\n",
    "            nn.Linear(512, 2),\n",
    "            nn.LogSoftmax(dim=1)\n",
    ")"
   ]
  },
  {
   "cell_type": "code",
   "execution_count": 59,
   "metadata": {},
   "outputs": [],
   "source": [
    "loss = nn.NLLLoss()"
   ]
  },
  {
   "cell_type": "code",
   "execution_count": 60,
   "metadata": {},
   "outputs": [
    {
     "data": {
      "text/plain": [
       "tensor(0.5077, grad_fn=<NllLossBackward0>)"
      ]
     },
     "execution_count": 60,
     "metadata": {},
     "output_type": "execute_result"
    }
   ],
   "source": [
    "img, label = cifar2[0]\n",
    "\n",
    "out = model(img.view(-1).unsqueeze(0))\n",
    "\n",
    "loss(out, torch.tensor([label]))"
   ]
  },
  {
   "cell_type": "code",
   "execution_count": null,
   "metadata": {},
   "outputs": [
    {
     "name": "stdout",
     "output_type": "stream",
     "text": [
      "Epoch: 0, Loss: 7.436963\n",
      "Epoch: 1, Loss: 2.969128\n",
      "Epoch: 2, Loss: 7.077729\n",
      "Epoch: 3, Loss: 5.504475\n",
      "Epoch: 4, Loss: 10.688177\n",
      "Epoch: 5, Loss: 1.415906\n",
      "Epoch: 6, Loss: 9.292529\n",
      "Epoch: 7, Loss: 12.116428\n",
      "Epoch: 8, Loss: 6.664639\n"
     ]
    },
    {
     "ename": "KeyboardInterrupt",
     "evalue": "",
     "output_type": "error",
     "traceback": [
      "\u001b[0;31m---------------------------------------------------------------------------\u001b[0m",
      "\u001b[0;31mKeyboardInterrupt\u001b[0m                         Traceback (most recent call last)",
      "Cell \u001b[0;32mIn[61], line 25\u001b[0m\n\u001b[1;32m     22\u001b[0m     loss \u001b[38;5;241m=\u001b[39m loss_fn(out, torch\u001b[38;5;241m.\u001b[39mtensor([label]))\n\u001b[1;32m     24\u001b[0m     optimizer\u001b[38;5;241m.\u001b[39mzero_grad()\n\u001b[0;32m---> 25\u001b[0m     \u001b[43mloss\u001b[49m\u001b[38;5;241;43m.\u001b[39;49m\u001b[43mbackward\u001b[49m\u001b[43m(\u001b[49m\u001b[43m)\u001b[49m\n\u001b[1;32m     26\u001b[0m     optimizer\u001b[38;5;241m.\u001b[39mstep()\n\u001b[1;32m     28\u001b[0m \u001b[38;5;28mprint\u001b[39m(\u001b[38;5;124m\"\u001b[39m\u001b[38;5;124mEpoch: \u001b[39m\u001b[38;5;132;01m%d\u001b[39;00m\u001b[38;5;124m, Loss: \u001b[39m\u001b[38;5;132;01m%f\u001b[39;00m\u001b[38;5;124m\"\u001b[39m \u001b[38;5;241m%\u001b[39m (epoch, \u001b[38;5;28mfloat\u001b[39m(loss)))\n",
      "File \u001b[0;32m~/Deep-Learning-with-PyTorch/venv/lib/python3.12/site-packages/torch/_tensor.py:626\u001b[0m, in \u001b[0;36mTensor.backward\u001b[0;34m(self, gradient, retain_graph, create_graph, inputs)\u001b[0m\n\u001b[1;32m    616\u001b[0m \u001b[38;5;28;01mif\u001b[39;00m has_torch_function_unary(\u001b[38;5;28mself\u001b[39m):\n\u001b[1;32m    617\u001b[0m     \u001b[38;5;28;01mreturn\u001b[39;00m handle_torch_function(\n\u001b[1;32m    618\u001b[0m         Tensor\u001b[38;5;241m.\u001b[39mbackward,\n\u001b[1;32m    619\u001b[0m         (\u001b[38;5;28mself\u001b[39m,),\n\u001b[0;32m   (...)\u001b[0m\n\u001b[1;32m    624\u001b[0m         inputs\u001b[38;5;241m=\u001b[39minputs,\n\u001b[1;32m    625\u001b[0m     )\n\u001b[0;32m--> 626\u001b[0m \u001b[43mtorch\u001b[49m\u001b[38;5;241;43m.\u001b[39;49m\u001b[43mautograd\u001b[49m\u001b[38;5;241;43m.\u001b[39;49m\u001b[43mbackward\u001b[49m\u001b[43m(\u001b[49m\n\u001b[1;32m    627\u001b[0m \u001b[43m    \u001b[49m\u001b[38;5;28;43mself\u001b[39;49m\u001b[43m,\u001b[49m\u001b[43m \u001b[49m\u001b[43mgradient\u001b[49m\u001b[43m,\u001b[49m\u001b[43m \u001b[49m\u001b[43mretain_graph\u001b[49m\u001b[43m,\u001b[49m\u001b[43m \u001b[49m\u001b[43mcreate_graph\u001b[49m\u001b[43m,\u001b[49m\u001b[43m \u001b[49m\u001b[43minputs\u001b[49m\u001b[38;5;241;43m=\u001b[39;49m\u001b[43minputs\u001b[49m\n\u001b[1;32m    628\u001b[0m \u001b[43m\u001b[49m\u001b[43m)\u001b[49m\n",
      "File \u001b[0;32m~/Deep-Learning-with-PyTorch/venv/lib/python3.12/site-packages/torch/autograd/__init__.py:340\u001b[0m, in \u001b[0;36mbackward\u001b[0;34m(tensors, grad_tensors, retain_graph, create_graph, grad_variables, inputs)\u001b[0m\n\u001b[1;32m    331\u001b[0m inputs \u001b[38;5;241m=\u001b[39m (\n\u001b[1;32m    332\u001b[0m     (inputs,)\n\u001b[1;32m    333\u001b[0m     \u001b[38;5;28;01mif\u001b[39;00m \u001b[38;5;28misinstance\u001b[39m(inputs, (torch\u001b[38;5;241m.\u001b[39mTensor, graph\u001b[38;5;241m.\u001b[39mGradientEdge))\n\u001b[0;32m   (...)\u001b[0m\n\u001b[1;32m    336\u001b[0m     \u001b[38;5;28;01melse\u001b[39;00m ()\n\u001b[1;32m    337\u001b[0m )\n\u001b[1;32m    339\u001b[0m grad_tensors_ \u001b[38;5;241m=\u001b[39m _tensor_or_tensors_to_tuple(grad_tensors, \u001b[38;5;28mlen\u001b[39m(tensors))\n\u001b[0;32m--> 340\u001b[0m grad_tensors_ \u001b[38;5;241m=\u001b[39m \u001b[43m_make_grads\u001b[49m\u001b[43m(\u001b[49m\u001b[43mtensors\u001b[49m\u001b[43m,\u001b[49m\u001b[43m \u001b[49m\u001b[43mgrad_tensors_\u001b[49m\u001b[43m,\u001b[49m\u001b[43m \u001b[49m\u001b[43mis_grads_batched\u001b[49m\u001b[38;5;241;43m=\u001b[39;49m\u001b[38;5;28;43;01mFalse\u001b[39;49;00m\u001b[43m)\u001b[49m\n\u001b[1;32m    341\u001b[0m \u001b[38;5;28;01mif\u001b[39;00m retain_graph \u001b[38;5;129;01mis\u001b[39;00m \u001b[38;5;28;01mNone\u001b[39;00m:\n\u001b[1;32m    342\u001b[0m     retain_graph \u001b[38;5;241m=\u001b[39m create_graph\n",
      "File \u001b[0;32m~/Deep-Learning-with-PyTorch/venv/lib/python3.12/site-packages/torch/autograd/__init__.py:220\u001b[0m, in \u001b[0;36m_make_grads\u001b[0;34m(outputs, grads, is_grads_batched)\u001b[0m\n\u001b[1;32m    217\u001b[0m     \u001b[38;5;28;01melse\u001b[39;00m:\n\u001b[1;32m    218\u001b[0m         \u001b[38;5;28;01massert\u001b[39;00m \u001b[38;5;28misinstance\u001b[39m(out, torch\u001b[38;5;241m.\u001b[39mTensor)\n\u001b[1;32m    219\u001b[0m         new_grads\u001b[38;5;241m.\u001b[39mappend(\n\u001b[0;32m--> 220\u001b[0m             \u001b[43mtorch\u001b[49m\u001b[38;5;241;43m.\u001b[39;49m\u001b[43mones_like\u001b[49m\u001b[43m(\u001b[49m\u001b[43mout\u001b[49m\u001b[43m,\u001b[49m\u001b[43m \u001b[49m\u001b[43mmemory_format\u001b[49m\u001b[38;5;241;43m=\u001b[39;49m\u001b[43mtorch\u001b[49m\u001b[38;5;241;43m.\u001b[39;49m\u001b[43mpreserve_format\u001b[49m\u001b[43m)\u001b[49m\n\u001b[1;32m    221\u001b[0m         )\n\u001b[1;32m    222\u001b[0m \u001b[38;5;28;01melse\u001b[39;00m:\n\u001b[1;32m    223\u001b[0m     new_grads\u001b[38;5;241m.\u001b[39mappend(\u001b[38;5;28;01mNone\u001b[39;00m)\n",
      "\u001b[0;31mKeyboardInterrupt\u001b[0m: "
     ]
    }
   ],
   "source": [
    "import torch\n",
    "import torch.nn as nn\n",
    "import torch.optim as optim\n",
    "\n",
    "model = nn.Sequential(\n",
    "            nn.Linear(3072, 512),\n",
    "            nn.Tanh(),\n",
    "            nn.Linear(512, 2),\n",
    "            nn.LogSoftmax(dim=1))\n",
    "\n",
    "learning_rate = 1e-2\n",
    "\n",
    "optimizer = optim.SGD(model.parameters(), lr=learning_rate)\n",
    "\n",
    "loss_fn = nn.NLLLoss()\n",
    "\n",
    "n_epochs = 100\n",
    "\n",
    "for epoch in range(n_epochs):\n",
    "    for img, label in cifar2:\n",
    "        out = model(img.view(-1).unsqueeze(0))\n",
    "        loss = loss_fn(out, torch.tensor([label]))\n",
    "                \n",
    "        optimizer.zero_grad()\n",
    "        loss.backward()\n",
    "        optimizer.step()\n",
    "\n",
    "    print(\"Epoch: %d, Loss: %f\" % (epoch, float(loss))) # Prints the loss for the last image. \n",
    "                                                        # In the next chapter, we will\n",
    "                                                        # improve our output to give an average over\n",
    "                                                        # the entire epoch.\n",
    "\n"
   ]
  },
  {
   "cell_type": "code",
   "execution_count": 63,
   "metadata": {},
   "outputs": [],
   "source": [
    "train_loader = torch.utils.data.DataLoader(cifar2, batch_size=64, shuffle=True)"
   ]
  },
  {
   "cell_type": "code",
   "execution_count": 65,
   "metadata": {},
   "outputs": [
    {
     "name": "stdout",
     "output_type": "stream",
     "text": [
      "Epoch: 0, Loss: 0.257707\n",
      "Epoch: 1, Loss: 0.410050\n",
      "Epoch: 2, Loss: 0.353380\n",
      "Epoch: 3, Loss: 0.491312\n",
      "Epoch: 4, Loss: 0.255176\n",
      "Epoch: 5, Loss: 0.425032\n",
      "Epoch: 6, Loss: 0.407701\n",
      "Epoch: 7, Loss: 0.562127\n",
      "Epoch: 8, Loss: 0.359097\n",
      "Epoch: 9, Loss: 0.499740\n",
      "Epoch: 10, Loss: 0.318886\n",
      "Epoch: 11, Loss: 0.962872\n",
      "Epoch: 12, Loss: 0.314391\n",
      "Epoch: 13, Loss: 0.348557\n",
      "Epoch: 14, Loss: 0.364174\n",
      "Epoch: 15, Loss: 0.305631\n",
      "Epoch: 16, Loss: 0.305762\n",
      "Epoch: 17, Loss: 0.414332\n",
      "Epoch: 18, Loss: 0.223709\n",
      "Epoch: 19, Loss: 0.299378\n",
      "Epoch: 20, Loss: 0.278254\n",
      "Epoch: 21, Loss: 0.164422\n",
      "Epoch: 22, Loss: 0.155688\n",
      "Epoch: 23, Loss: 0.285705\n",
      "Epoch: 24, Loss: 0.173727\n",
      "Epoch: 25, Loss: 0.205155\n",
      "Epoch: 26, Loss: 0.329013\n",
      "Epoch: 27, Loss: 0.536953\n",
      "Epoch: 28, Loss: 0.233588\n",
      "Epoch: 29, Loss: 0.320415\n",
      "Epoch: 30, Loss: 0.205343\n",
      "Epoch: 31, Loss: 0.249236\n",
      "Epoch: 32, Loss: 0.358398\n",
      "Epoch: 33, Loss: 0.204784\n",
      "Epoch: 34, Loss: 0.139924\n",
      "Epoch: 35, Loss: 0.125468\n",
      "Epoch: 36, Loss: 0.088745\n",
      "Epoch: 37, Loss: 0.184781\n",
      "Epoch: 38, Loss: 0.103291\n",
      "Epoch: 39, Loss: 0.120783\n",
      "Epoch: 40, Loss: 0.246437\n",
      "Epoch: 41, Loss: 0.106820\n",
      "Epoch: 42, Loss: 0.179025\n",
      "Epoch: 43, Loss: 0.061698\n",
      "Epoch: 44, Loss: 0.057559\n",
      "Epoch: 45, Loss: 0.113642\n",
      "Epoch: 46, Loss: 0.244740\n",
      "Epoch: 47, Loss: 0.105862\n",
      "Epoch: 48, Loss: 0.052333\n",
      "Epoch: 49, Loss: 0.044612\n",
      "Epoch: 50, Loss: 0.049658\n",
      "Epoch: 51, Loss: 0.183567\n",
      "Epoch: 52, Loss: 0.306800\n",
      "Epoch: 53, Loss: 0.067912\n",
      "Epoch: 54, Loss: 0.170536\n",
      "Epoch: 55, Loss: 0.045935\n",
      "Epoch: 56, Loss: 0.120636\n",
      "Epoch: 57, Loss: 0.064718\n",
      "Epoch: 58, Loss: 0.056445\n",
      "Epoch: 59, Loss: 0.040201\n",
      "Epoch: 60, Loss: 0.003565\n",
      "Epoch: 61, Loss: 0.042228\n",
      "Epoch: 62, Loss: 0.086206\n",
      "Epoch: 63, Loss: 0.042911\n",
      "Epoch: 64, Loss: 0.079548\n",
      "Epoch: 65, Loss: 0.018515\n",
      "Epoch: 66, Loss: 0.052856\n",
      "Epoch: 67, Loss: 0.009938\n",
      "Epoch: 68, Loss: 0.019014\n",
      "Epoch: 69, Loss: 0.017322\n",
      "Epoch: 70, Loss: 0.036108\n",
      "Epoch: 71, Loss: 0.035440\n",
      "Epoch: 72, Loss: 0.058770\n",
      "Epoch: 73, Loss: 0.032713\n",
      "Epoch: 74, Loss: 0.030325\n",
      "Epoch: 75, Loss: 0.035949\n",
      "Epoch: 76, Loss: 0.026623\n",
      "Epoch: 77, Loss: 0.026855\n",
      "Epoch: 78, Loss: 0.023253\n",
      "Epoch: 79, Loss: 0.012982\n",
      "Epoch: 80, Loss: 0.023739\n",
      "Epoch: 81, Loss: 0.047364\n",
      "Epoch: 82, Loss: 0.024903\n",
      "Epoch: 83, Loss: 0.015368\n",
      "Epoch: 84, Loss: 0.063199\n",
      "Epoch: 85, Loss: 0.032167\n",
      "Epoch: 86, Loss: 0.020840\n",
      "Epoch: 87, Loss: 0.012012\n",
      "Epoch: 88, Loss: 0.016365\n",
      "Epoch: 89, Loss: 0.016152\n",
      "Epoch: 90, Loss: 0.018456\n",
      "Epoch: 91, Loss: 0.041608\n",
      "Epoch: 92, Loss: 0.019386\n",
      "Epoch: 93, Loss: 0.022048\n",
      "Epoch: 94, Loss: 0.008092\n",
      "Epoch: 95, Loss: 0.014038\n",
      "Epoch: 96, Loss: 0.018485\n",
      "Epoch: 97, Loss: 0.032556\n",
      "Epoch: 98, Loss: 0.015819\n",
      "Epoch: 99, Loss: 0.010989\n"
     ]
    }
   ],
   "source": [
    "import torch\n",
    "import torch.nn as nn\n",
    "import torch.optim as optim\n",
    "\n",
    "train_loader = torch.utils.data.DataLoader(cifar2, batch_size=64, shuffle=True)\n",
    "\n",
    "model = nn.Sequential(\n",
    "            nn.Linear(3072, 512),\n",
    "            nn.Tanh(),\n",
    "            nn.Linear(512, 2),\n",
    "            nn.LogSoftmax(dim=1))\n",
    "\n",
    "learning_rate = 1e-2\n",
    "\n",
    "optimizer = optim.SGD(model.parameters(), lr=learning_rate)\n",
    "\n",
    "loss_fn = nn.NLLLoss()\n",
    "\n",
    "n_epochs = 100\n",
    "\n",
    "for epoch in range(n_epochs):\n",
    "    for imgs, labels in train_loader:\n",
    "        outputs = model(imgs.view(imgs.shape[0], -1))\n",
    "        loss = loss_fn(outputs, labels)\n",
    "\n",
    "        optimizer.zero_grad()\n",
    "        loss.backward()\n",
    "        optimizer.step()\n",
    "\n",
    "    print(\"Epoch: %d, Loss: %f\" % (epoch, float(loss))) # Due to the shuffling, this now prints the loss for a random batch - \n",
    "                                                        # clearly something we want to improve in chapter 8"
   ]
  },
  {
   "cell_type": "code",
   "execution_count": 68,
   "metadata": {},
   "outputs": [
    {
     "name": "stdout",
     "output_type": "stream",
     "text": [
      "Accuracy: 0.999400\n"
     ]
    }
   ],
   "source": [
    "train_loader = torch.utils.data.DataLoader(cifar2, batch_size=64, shuffle=False)\n",
    "\n",
    "correct = 0\n",
    "total = 0\n",
    "\n",
    "with torch.no_grad():\n",
    "    for imgs, labels in train_loader:\n",
    "        outputs = model(imgs.view(imgs.shape[0], -1))\n",
    "        _, predicted = torch.max(outputs, dim=1)\n",
    "        total += labels.shape[0]\n",
    "        correct += int((predicted == labels).sum())\n",
    "        \n",
    "print(\"Accuracy: %f\" % (correct / total))"
   ]
  },
  {
   "cell_type": "code",
   "execution_count": 67,
   "metadata": {},
   "outputs": [
    {
     "name": "stdout",
     "output_type": "stream",
     "text": [
      "Accuracy: 0.814\n"
     ]
    }
   ],
   "source": [
    "val_loader = torch.utils.data.DataLoader(cifar2_val, batch_size=64, shuffle=False)\n",
    "\n",
    "correct = 0\n",
    "total = 0\n",
    "\n",
    "with torch.no_grad():\n",
    "    for imgs, labels in val_loader:\n",
    "        batch_size = imgs.shape[0]\n",
    "        outputs = model(imgs.view(batch_size, -1))\n",
    "        _, predicted = torch.max(outputs, dim=1)\n",
    "        total += labels.shape[0]\n",
    "        correct += int((predicted == labels).sum())\n",
    "print(f\"Accuracy: {correct / total}\")"
   ]
  },
  {
   "cell_type": "code",
   "execution_count": 69,
   "metadata": {},
   "outputs": [
    {
     "name": "stdout",
     "output_type": "stream",
     "text": [
      "Epoch: 0, Loss: 0.582256\n",
      "Epoch: 1, Loss: 0.561438\n",
      "Epoch: 2, Loss: 0.277775\n",
      "Epoch: 3, Loss: 0.524835\n",
      "Epoch: 4, Loss: 0.285204\n",
      "Epoch: 5, Loss: 0.666438\n",
      "Epoch: 6, Loss: 0.212069\n",
      "Epoch: 7, Loss: 0.394407\n",
      "Epoch: 8, Loss: 0.703533\n",
      "Epoch: 9, Loss: 0.508157\n",
      "Epoch: 10, Loss: 0.580842\n",
      "Epoch: 11, Loss: 0.299394\n",
      "Epoch: 12, Loss: 0.733760\n",
      "Epoch: 13, Loss: 0.327038\n",
      "Epoch: 14, Loss: 0.725558\n",
      "Epoch: 15, Loss: 0.443099\n",
      "Epoch: 16, Loss: 0.531968\n",
      "Epoch: 17, Loss: 0.607679\n",
      "Epoch: 18, Loss: 0.323157\n",
      "Epoch: 19, Loss: 0.240428\n",
      "Epoch: 20, Loss: 0.648723\n",
      "Epoch: 21, Loss: 0.164236\n",
      "Epoch: 22, Loss: 0.381451\n",
      "Epoch: 23, Loss: 0.494390\n",
      "Epoch: 24, Loss: 0.066966\n",
      "Epoch: 25, Loss: 0.312594\n",
      "Epoch: 26, Loss: 0.416677\n",
      "Epoch: 27, Loss: 0.274114\n",
      "Epoch: 28, Loss: 0.115102\n",
      "Epoch: 29, Loss: 0.093129\n",
      "Epoch: 30, Loss: 0.349315\n",
      "Epoch: 31, Loss: 0.103289\n",
      "Epoch: 32, Loss: 0.208464\n",
      "Epoch: 33, Loss: 0.071312\n",
      "Epoch: 34, Loss: 0.198908\n",
      "Epoch: 35, Loss: 0.176560\n",
      "Epoch: 36, Loss: 0.259543\n",
      "Epoch: 37, Loss: 0.224250\n",
      "Epoch: 38, Loss: 0.078512\n",
      "Epoch: 39, Loss: 0.049317\n",
      "Epoch: 40, Loss: 0.119823\n",
      "Epoch: 41, Loss: 0.111170\n",
      "Epoch: 42, Loss: 0.035962\n",
      "Epoch: 43, Loss: 0.049839\n",
      "Epoch: 44, Loss: 0.045945\n",
      "Epoch: 45, Loss: 0.036056\n",
      "Epoch: 46, Loss: 0.044208\n",
      "Epoch: 47, Loss: 0.011762\n",
      "Epoch: 48, Loss: 0.024060\n",
      "Epoch: 49, Loss: 0.010224\n",
      "Epoch: 50, Loss: 0.042148\n",
      "Epoch: 51, Loss: 0.001335\n",
      "Epoch: 52, Loss: 0.277778\n",
      "Epoch: 53, Loss: 0.008342\n",
      "Epoch: 54, Loss: 0.187649\n",
      "Epoch: 55, Loss: 0.005361\n",
      "Epoch: 56, Loss: 0.030870\n",
      "Epoch: 57, Loss: 0.028548\n",
      "Epoch: 58, Loss: 0.002954\n",
      "Epoch: 59, Loss: 0.009468\n",
      "Epoch: 60, Loss: 0.370491\n",
      "Epoch: 61, Loss: 0.022397\n",
      "Epoch: 62, Loss: 0.044850\n",
      "Epoch: 63, Loss: 0.301965\n",
      "Epoch: 64, Loss: 0.004755\n",
      "Epoch: 65, Loss: 0.002755\n",
      "Epoch: 66, Loss: 0.000120\n",
      "Epoch: 67, Loss: 0.040423\n",
      "Epoch: 68, Loss: 0.009236\n",
      "Epoch: 69, Loss: 0.030939\n",
      "Epoch: 70, Loss: 0.090626\n",
      "Epoch: 71, Loss: 0.018660\n",
      "Epoch: 72, Loss: 0.001500\n",
      "Epoch: 73, Loss: 0.001797\n",
      "Epoch: 74, Loss: 0.031239\n",
      "Epoch: 75, Loss: 0.000427\n",
      "Epoch: 76, Loss: 0.001809\n",
      "Epoch: 77, Loss: 2.285725\n",
      "Epoch: 78, Loss: 0.005348\n",
      "Epoch: 79, Loss: 0.002817\n",
      "Epoch: 80, Loss: 0.044322\n",
      "Epoch: 81, Loss: 0.002425\n",
      "Epoch: 82, Loss: 0.000862\n",
      "Epoch: 83, Loss: 0.011584\n",
      "Epoch: 84, Loss: 0.005200\n",
      "Epoch: 85, Loss: 0.005558\n",
      "Epoch: 86, Loss: 0.005930\n",
      "Epoch: 87, Loss: 0.001161\n",
      "Epoch: 88, Loss: 0.000932\n",
      "Epoch: 89, Loss: 0.002120\n",
      "Epoch: 90, Loss: 0.003958\n",
      "Epoch: 91, Loss: 0.010095\n",
      "Epoch: 92, Loss: 0.001457\n",
      "Epoch: 93, Loss: 0.002864\n",
      "Epoch: 94, Loss: 0.011898\n",
      "Epoch: 95, Loss: 0.002066\n",
      "Epoch: 96, Loss: 0.000207\n",
      "Epoch: 97, Loss: 0.000409\n",
      "Epoch: 98, Loss: 0.001762\n",
      "Epoch: 99, Loss: 0.005053\n"
     ]
    }
   ],
   "source": [
    "import torch\n",
    "import torch.nn as nn\n",
    "import torch.optim as optim\n",
    "\n",
    "train_loader = torch.utils.data.DataLoader(cifar2, batch_size=64, shuffle=True)\n",
    "\n",
    "model = nn.Sequential(\n",
    "            nn.Linear(3072, 1024),\n",
    "            nn.Tanh(),\n",
    "            nn.Linear(1024, 512),\n",
    "            nn.Tanh(),\n",
    "            nn.Linear(512, 128),\n",
    "            nn.Tanh(),\n",
    "            nn.Linear(128, 2))\n",
    "\n",
    "learning_rate = 1e-2\n",
    "\n",
    "optimizer = optim.SGD(model.parameters(), lr=learning_rate)\n",
    "\n",
    "loss_fn = nn.CrossEntropyLoss()\n",
    "\n",
    "n_epochs = 100\n",
    "\n",
    "for epoch in range(n_epochs):\n",
    "    for imgs, labels in train_loader:\n",
    "        outputs = model(imgs.view(imgs.shape[0], -1))\n",
    "        loss = loss_fn(outputs, labels)\n",
    "\n",
    "        optimizer.zero_grad()\n",
    "        loss.backward()\n",
    "        optimizer.step()\n",
    "\n",
    "    print(\"Epoch: %d, Loss: %f\" % (epoch, float(loss)))\n"
   ]
  },
  {
   "cell_type": "code",
   "execution_count": 70,
   "metadata": {},
   "outputs": [
    {
     "name": "stdout",
     "output_type": "stream",
     "text": [
      "Accuracy: 0.999900\n"
     ]
    }
   ],
   "source": [
    "train_loader = torch.utils.data.DataLoader(cifar2, batch_size=64, shuffle=False)\n",
    "\n",
    "correct = 0\n",
    "total = 0\n",
    "\n",
    "with torch.no_grad():\n",
    "    for imgs, labels in train_loader:\n",
    "        outputs = model(imgs.view(imgs.shape[0], -1))\n",
    "        _, predicted = torch.max(outputs, dim=1)\n",
    "        total += labels.shape[0]\n",
    "        correct += int((predicted == labels).sum())\n",
    "        \n",
    "print(\"Accuracy: %f\" % (correct / total))"
   ]
  },
  {
   "cell_type": "code",
   "execution_count": 71,
   "metadata": {},
   "outputs": [
    {
     "name": "stdout",
     "output_type": "stream",
     "text": [
      "Accuracy: 0.803000\n"
     ]
    }
   ],
   "source": [
    "val_loader = torch.utils.data.DataLoader(cifar2_val, batch_size=64, shuffle=False)\n",
    "\n",
    "correct = 0\n",
    "total = 0\n",
    "\n",
    "with torch.no_grad():\n",
    "    for imgs, labels in val_loader:\n",
    "        outputs = model(imgs.view(imgs.shape[0], -1))\n",
    "        _, predicted = torch.max(outputs, dim=1)\n",
    "        total += labels.shape[0]\n",
    "        correct += int((predicted == labels).sum())\n",
    "        \n",
    "print(\"Accuracy: %f\" % (correct / total))"
   ]
  },
  {
   "cell_type": "code",
   "execution_count": 75,
   "metadata": {},
   "outputs": [
    {
     "data": {
      "text/plain": [
       "(3737474, [3145728, 1024, 524288, 512, 65536, 128, 256, 2])"
      ]
     },
     "execution_count": 75,
     "metadata": {},
     "output_type": "execute_result"
    }
   ],
   "source": [
    "numel_list = [p.numel()\n",
    "              for p in model.parameters()\n",
    "              if p.requires_grad == True]\n",
    "\n",
    "sum(numel_list), numel_list"
   ]
  },
  {
   "cell_type": "code",
   "execution_count": 77,
   "metadata": {},
   "outputs": [
    {
     "data": {
      "text/plain": [
       "(1574402, [1572864, 512, 1024, 2])"
      ]
     },
     "execution_count": 77,
     "metadata": {},
     "output_type": "execute_result"
    }
   ],
   "source": [
    "first_model = nn.Sequential(\n",
    "                nn.Linear(3072, 512),\n",
    "                nn.Tanh(),\n",
    "                nn.Linear(512, 2),\n",
    "                nn.LogSoftmax(dim=1))\n",
    "\n",
    "numel_list = [p.numel()\n",
    "              for p in first_model.parameters()\n",
    "              if p.requires_grad == True]\n",
    "\n",
    "sum(numel_list), numel_list"
   ]
  },
  {
   "cell_type": "code",
   "execution_count": 78,
   "metadata": {},
   "outputs": [
    {
     "data": {
      "text/plain": [
       "(torch.Size([1024, 3072]), torch.Size([1024]))"
      ]
     },
     "execution_count": 78,
     "metadata": {},
     "output_type": "execute_result"
    }
   ],
   "source": [
    "linear = nn.Linear(3072, 1024)\n",
    "\n",
    "linear.weight.shape, linear.bias.shape"
   ]
  },
  {
   "cell_type": "code",
   "execution_count": null,
   "metadata": {},
   "outputs": [],
   "source": [
    "\"\"\"\" So, at the end of this chapter, we have a dataset, a model, and a training loop, and\n",
    "our model learns. However, due to a mismatch between our problem and our network\n",
    "structure, we end up overfitting our training data, rather than learning the general-\n",
    "ized features of what we want the model to detect \"\"\""
   ]
  },
  {
   "cell_type": "code",
   "execution_count": null,
   "metadata": {},
   "outputs": [],
   "source": [
    "\"\"\"\" We’ve created a model that allows for relating every pixel to every other pixel in\n",
    "the image, regardless of their spatial arrangement. We have a reasonable assumption\n",
    "that pixels that are closer together are in theory a lot more related, though. This\n",
    "means we are training a classifier that is not translation-invariant, so we’re forced to\n",
    "use a lot of capacity for learning translated replicas if we want to hope to do well on\n",
    "the validation set. There has to be a better way, right? \"\"\""
   ]
  },
  {
   "cell_type": "code",
   "execution_count": null,
   "metadata": {},
   "outputs": [],
   "source": [
    "\"\"\"\" Of course, most such questions in a book like this are rhetorical. The solution to\n",
    "our current set of problems is to change our model to use convolutional layers. We\\u2019ll\n",
    "cover what that means in the next chapter. \"\"\""
   ]
  }
 ],
 "metadata": {
  "kernelspec": {
   "display_name": "venv",
   "language": "python",
   "name": "python3"
  },
  "language_info": {
   "codemirror_mode": {
    "name": "ipython",
    "version": 3
   },
   "file_extension": ".py",
   "mimetype": "text/x-python",
   "name": "python",
   "nbconvert_exporter": "python",
   "pygments_lexer": "ipython3",
   "version": "3.12.3"
  }
 },
 "nbformat": 4,
 "nbformat_minor": 2
}
