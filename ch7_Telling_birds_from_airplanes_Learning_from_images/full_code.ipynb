{
 "cells": [
  {
   "cell_type": "code",
   "execution_count": 14,
   "metadata": {},
   "outputs": [
    {
     "data": {
      "text/plain": [
       "<torch._C.Generator at 0x75e1fbd4a4f0>"
      ]
     },
     "execution_count": 14,
     "metadata": {},
     "output_type": "execute_result"
    }
   ],
   "source": [
    "%matplotlib inline\n",
    "from matplotlib import pyplot as plt\n",
    "import numpy as np\n",
    "import torch\n",
    "\n",
    "torch.set_printoptions(edgeitems=2)\n",
    "torch.manual_seed(123)"
   ]
  },
  {
   "cell_type": "code",
   "execution_count": null,
   "metadata": {},
   "outputs": [
    {
     "name": "stdout",
     "output_type": "stream",
     "text": [
      "Mean (R, G, B): tensor([0.4914, 0.4822, 0.4465])\n",
      "Std (R, G, B): tensor([0.2470, 0.2435, 0.2616])\n"
     ]
    }
   ],
   "source": [
    "from torchvision import datasets, transforms\n",
    "import torch\n",
    "\n",
    "data_path = '../data/ch7/'\n",
    "\n",
    "cifar10 = datasets.CIFAR10(\n",
    "    data_path, train=True, download=True,\n",
    "    transform=transforms.ToTensor() \n",
    ")\n",
    "\n",
    "images = torch.stack([img for img, _ in cifar10], dim=3)\n",
    "\n",
    "mean = images.view(3, -1).mean(dim=1)\n",
    "std = images.view(3, -1).std(dim=1)\n",
    "\n",
    "print(\"Mean (R, G, B):\", mean)\n",
    "print(\"Std (R, G, B):\", std)"
   ]
  },
  {
   "cell_type": "code",
   "execution_count": null,
   "metadata": {},
   "outputs": [],
   "source": [
    "cifar10 = datasets.CIFAR10(\n",
    "    data_path, train=True, download=False,\n",
    "    transform=transforms.Compose([\n",
    "        transforms.ToTensor(),\n",
    "        transforms.Normalize(mean, std)\n",
    "    ])\n",
    ")\n",
    "\n",
    "cifar10_val = datasets.CIFAR10(\n",
    "    data_path, train=False, download=False,\n",
    "    transform=transforms.Compose([\n",
    "        transforms.ToTensor(),\n",
    "        transforms.Normalize(mean, std)\n",
    "    ])\n",
    ")"
   ]
  },
  {
   "cell_type": "code",
   "execution_count": 9,
   "metadata": {},
   "outputs": [],
   "source": [
    "label_map = {0: 0, 2: 1}\n",
    "class_names = ['airplane', 'bird']\n",
    "\n",
    "cifar2 = [(img, label_map[label])\n",
    "          for img, label in cifar10\n",
    "          if label in [0, 2]]\n",
    "\n",
    "cifar2_val = [(img, label_map[label]) \n",
    "              for img, label in cifar10_val\n",
    "              if label in [0, 2]]"
   ]
  },
  {
   "cell_type": "code",
   "execution_count": 10,
   "metadata": {},
   "outputs": [
    {
     "name": "stdout",
     "output_type": "stream",
     "text": [
      "Epoch: 0, Loss: 0.543558\n",
      "Epoch: 1, Loss: 0.436781\n",
      "Epoch: 2, Loss: 0.369581\n",
      "Epoch: 3, Loss: 0.525758\n",
      "Epoch: 4, Loss: 0.380984\n",
      "Epoch: 5, Loss: 0.403744\n",
      "Epoch: 6, Loss: 0.343644\n",
      "Epoch: 7, Loss: 0.523498\n",
      "Epoch: 8, Loss: 0.533998\n",
      "Epoch: 9, Loss: 0.469928\n",
      "Epoch: 10, Loss: 0.545019\n",
      "Epoch: 11, Loss: 0.323323\n",
      "Epoch: 12, Loss: 0.413933\n",
      "Epoch: 13, Loss: 0.323450\n",
      "Epoch: 14, Loss: 0.392169\n",
      "Epoch: 15, Loss: 0.381515\n",
      "Epoch: 16, Loss: 0.240899\n",
      "Epoch: 17, Loss: 0.400147\n",
      "Epoch: 18, Loss: 0.333209\n",
      "Epoch: 19, Loss: 0.402492\n",
      "Epoch: 20, Loss: 0.358327\n",
      "Epoch: 21, Loss: 0.117419\n",
      "Epoch: 22, Loss: 0.272192\n",
      "Epoch: 23, Loss: 0.201518\n",
      "Epoch: 24, Loss: 0.073683\n",
      "Epoch: 25, Loss: 0.166854\n",
      "Epoch: 26, Loss: 0.109931\n",
      "Epoch: 27, Loss: 0.376480\n",
      "Epoch: 28, Loss: 0.272744\n",
      "Epoch: 29, Loss: 0.055994\n",
      "Epoch: 30, Loss: 0.154708\n",
      "Epoch: 31, Loss: 0.326919\n",
      "Epoch: 32, Loss: 0.192552\n",
      "Epoch: 33, Loss: 0.244193\n",
      "Epoch: 34, Loss: 0.070251\n",
      "Epoch: 35, Loss: 0.081186\n",
      "Epoch: 36, Loss: 0.090806\n",
      "Epoch: 37, Loss: 0.145870\n",
      "Epoch: 38, Loss: 0.284622\n",
      "Epoch: 39, Loss: 0.049115\n",
      "Epoch: 40, Loss: 0.254685\n",
      "Epoch: 41, Loss: 0.347162\n",
      "Epoch: 42, Loss: 0.065440\n",
      "Epoch: 43, Loss: 0.136075\n",
      "Epoch: 44, Loss: 0.064557\n",
      "Epoch: 45, Loss: 0.106246\n",
      "Epoch: 46, Loss: 0.033307\n",
      "Epoch: 47, Loss: 0.020817\n",
      "Epoch: 48, Loss: 0.226606\n",
      "Epoch: 49, Loss: 0.140665\n",
      "Epoch: 50, Loss: 0.008380\n",
      "Epoch: 51, Loss: 0.033475\n",
      "Epoch: 52, Loss: 0.014796\n",
      "Epoch: 53, Loss: 0.053009\n",
      "Epoch: 54, Loss: 0.065802\n",
      "Epoch: 55, Loss: 0.020478\n",
      "Epoch: 56, Loss: 0.016644\n",
      "Epoch: 57, Loss: 0.003690\n",
      "Epoch: 58, Loss: 0.047811\n",
      "Epoch: 59, Loss: 0.014266\n",
      "Epoch: 60, Loss: 0.002814\n",
      "Epoch: 61, Loss: 0.285333\n",
      "Epoch: 62, Loss: 0.072523\n",
      "Epoch: 63, Loss: 0.005303\n",
      "Epoch: 64, Loss: 0.033760\n",
      "Epoch: 65, Loss: 0.005424\n",
      "Epoch: 66, Loss: 0.007058\n",
      "Epoch: 67, Loss: 0.002274\n",
      "Epoch: 68, Loss: 0.007457\n",
      "Epoch: 69, Loss: 0.004060\n",
      "Epoch: 70, Loss: 0.001567\n",
      "Epoch: 71, Loss: 0.007071\n",
      "Epoch: 72, Loss: 0.016772\n",
      "Epoch: 73, Loss: 0.013902\n",
      "Epoch: 74, Loss: 0.010603\n",
      "Epoch: 75, Loss: 0.000431\n",
      "Epoch: 76, Loss: 0.009033\n",
      "Epoch: 77, Loss: 0.023235\n",
      "Epoch: 78, Loss: 0.003892\n",
      "Epoch: 79, Loss: 0.002130\n",
      "Epoch: 80, Loss: 0.026980\n",
      "Epoch: 81, Loss: 0.000810\n",
      "Epoch: 82, Loss: 0.002884\n",
      "Epoch: 83, Loss: 0.001423\n",
      "Epoch: 84, Loss: 0.005475\n",
      "Epoch: 85, Loss: 0.000549\n",
      "Epoch: 86, Loss: 0.004154\n",
      "Epoch: 87, Loss: 0.000939\n",
      "Epoch: 88, Loss: 0.002616\n",
      "Epoch: 89, Loss: 0.005388\n",
      "Epoch: 90, Loss: 0.000916\n",
      "Epoch: 91, Loss: 0.002045\n",
      "Epoch: 92, Loss: 1.040598\n",
      "Epoch: 93, Loss: 0.002870\n",
      "Epoch: 94, Loss: 0.002825\n",
      "Epoch: 95, Loss: 0.002601\n",
      "Epoch: 96, Loss: 0.035531\n",
      "Epoch: 97, Loss: 0.002400\n",
      "Epoch: 98, Loss: 0.003505\n",
      "Epoch: 99, Loss: 0.011645\n"
     ]
    }
   ],
   "source": [
    "import torch\n",
    "import torch.nn as nn\n",
    "import torch.optim as optim\n",
    "\n",
    "train_loader = torch.utils.data.DataLoader(cifar2, batch_size=64, shuffle=True)\n",
    "\n",
    "model = nn.Sequential(\n",
    "            nn.Linear(3072, 1024),\n",
    "            nn.Tanh(),\n",
    "            nn.Linear(1024, 512),\n",
    "            nn.Tanh(),\n",
    "            nn.Linear(512, 128),\n",
    "            nn.Tanh(),\n",
    "            nn.Linear(128, 2))\n",
    "\n",
    "learning_rate = 1e-2\n",
    "\n",
    "optimizer = optim.SGD(model.parameters(), lr=learning_rate)\n",
    "\n",
    "loss_fn = nn.CrossEntropyLoss()\n",
    "\n",
    "n_epochs = 100\n",
    "\n",
    "for epoch in range(n_epochs):\n",
    "    for imgs, labels in train_loader:\n",
    "        outputs = model(imgs.view(imgs.shape[0], -1))\n",
    "        loss = loss_fn(outputs, labels)\n",
    "\n",
    "        optimizer.zero_grad()\n",
    "        loss.backward()\n",
    "        optimizer.step()\n",
    "\n",
    "    print(\"Epoch: %d, Loss: %f\" % (epoch, float(loss)))"
   ]
  },
  {
   "cell_type": "code",
   "execution_count": null,
   "metadata": {},
   "outputs": [
    {
     "name": "stdout",
     "output_type": "stream",
     "text": [
      "Accuracy: 0.999600\n"
     ]
    }
   ],
   "source": [
    "train_loader = torch.utils.data.DataLoader(cifar2, batch_size=64, shuffle=False)\n",
    "\n",
    "correct = 0\n",
    "total = 0\n",
    "\n",
    "with torch.no_grad():\n",
    "    for imgs, labels in train_loader:\n",
    "        outputs = model(imgs.view(imgs.shape[0], -1))\n",
    "        _, predicted = torch.max(outputs, dim=1)\n",
    "        total += labels.shape[0]\n",
    "        correct += int((predicted == labels).sum())\n",
    "        \n",
    "print(\"Accuracy: %f\" % (correct / total))"
   ]
  },
  {
   "cell_type": "code",
   "execution_count": 12,
   "metadata": {},
   "outputs": [
    {
     "name": "stdout",
     "output_type": "stream",
     "text": [
      "Accuracy: 0.812000\n"
     ]
    }
   ],
   "source": [
    "val_loader = torch.utils.data.DataLoader(cifar2_val, batch_size=64, shuffle=False)\n",
    "\n",
    "correct = 0\n",
    "total = 0\n",
    "\n",
    "with torch.no_grad():\n",
    "    for imgs, labels in val_loader:\n",
    "        outputs = model(imgs.view(imgs.shape[0], -1))\n",
    "        _, predicted = torch.max(outputs, dim=1)\n",
    "        total += labels.shape[0]\n",
    "        correct += int((predicted == labels).sum())\n",
    "        \n",
    "print(\"Accuracy: %f\" % (correct / total))"
   ]
  }
 ],
 "metadata": {
  "kernelspec": {
   "display_name": "venv",
   "language": "python",
   "name": "python3"
  },
  "language_info": {
   "codemirror_mode": {
    "name": "ipython",
    "version": 3
   },
   "file_extension": ".py",
   "mimetype": "text/x-python",
   "name": "python",
   "nbconvert_exporter": "python",
   "pygments_lexer": "ipython3",
   "version": "3.12.3"
  }
 },
 "nbformat": 4,
 "nbformat_minor": 2
}
