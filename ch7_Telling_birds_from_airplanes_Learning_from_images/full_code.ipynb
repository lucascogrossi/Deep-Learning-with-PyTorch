{
 "cells": [
  {
   "cell_type": "code",
   "execution_count": 18,
   "metadata": {},
   "outputs": [
    {
     "data": {
      "text/plain": [
       "<torch._C.Generator at 0x75e1fbd4a4f0>"
      ]
     },
     "execution_count": 18,
     "metadata": {},
     "output_type": "execute_result"
    }
   ],
   "source": [
    "%matplotlib inline\n",
    "from matplotlib import pyplot as plt\n",
    "import numpy as np\n",
    "import torch\n",
    "\n",
    "torch.set_printoptions(edgeitems=2)\n",
    "torch.manual_seed(123)"
   ]
  },
  {
   "cell_type": "code",
   "execution_count": 19,
   "metadata": {},
   "outputs": [
    {
     "name": "stdout",
     "output_type": "stream",
     "text": [
      "Mean (R, G, B): tensor([0.4914, 0.4822, 0.4465])\n",
      "Std (R, G, B): tensor([0.2470, 0.2435, 0.2616])\n"
     ]
    }
   ],
   "source": [
    "# load dataset\n",
    "from torchvision import datasets, transforms\n",
    "import torch\n",
    "\n",
    "data_path = '../data/ch7/'\n",
    "\n",
    "cifar10 = datasets.CIFAR10(\n",
    "    data_path, train=True, download=True,\n",
    "    transform=transforms.ToTensor() \n",
    ")\n",
    "\n",
    "# calculate mean and std for normalization\n",
    "images = torch.stack([img for img, _ in cifar10], dim=3)\n",
    "\n",
    "mean = images.view(3, -1).mean(dim=1)\n",
    "std = images.view(3, -1).std(dim=1)\n",
    "\n",
    "print(\"Mean (R, G, B):\", mean)\n",
    "print(\"Std (R, G, B):\", std)"
   ]
  },
  {
   "cell_type": "code",
   "execution_count": 20,
   "metadata": {},
   "outputs": [],
   "source": [
    "# split data set for training and validation + normalization\n",
    "\n",
    "cifar10 = datasets.CIFAR10(\n",
    "    data_path, train=True, download=False,\n",
    "    transform=transforms.Compose([\n",
    "        transforms.ToTensor(),\n",
    "        transforms.Normalize(mean, std)\n",
    "    ])\n",
    ")\n",
    "\n",
    "cifar10_val = datasets.CIFAR10(\n",
    "    data_path, train=False, download=False,\n",
    "    transform=transforms.Compose([\n",
    "        transforms.ToTensor(),\n",
    "        transforms.Normalize(mean, std)\n",
    "    ])\n",
    ")"
   ]
  },
  {
   "cell_type": "code",
   "execution_count": 21,
   "metadata": {},
   "outputs": [],
   "source": [
    "# filtering the dataset to include only the classes 0 (airplane) and 2 (bird),\n",
    "# here we are interested in a binary classification problem: \n",
    "# distinguishing birds from airplanes\n",
    "\n",
    "label_map = {0: 0, 2: 1}\n",
    "class_names = ['airplane', 'bird']\n",
    "\n",
    "# training set\n",
    "cifar2 = [(img, label_map[label])\n",
    "          for img, label in cifar10\n",
    "          if label in [0, 2]]\n",
    "\n",
    "# validation set\n",
    "cifar2_val = [(img, label_map[label]) \n",
    "              for img, label in cifar10_val\n",
    "              if label in [0, 2]]"
   ]
  },
  {
   "cell_type": "code",
   "execution_count": 22,
   "metadata": {},
   "outputs": [
    {
     "name": "stdout",
     "output_type": "stream",
     "text": [
      "Epoch: 0, Loss: 0.543585\n",
      "Epoch: 1, Loss: 0.436783\n",
      "Epoch: 2, Loss: 0.369613\n",
      "Epoch: 3, Loss: 0.525788\n",
      "Epoch: 4, Loss: 0.380967\n",
      "Epoch: 5, Loss: 0.403782\n",
      "Epoch: 6, Loss: 0.343655\n",
      "Epoch: 7, Loss: 0.523449\n",
      "Epoch: 8, Loss: 0.534279\n",
      "Epoch: 9, Loss: 0.469703\n",
      "Epoch: 10, Loss: 0.544880\n",
      "Epoch: 11, Loss: 0.323124\n",
      "Epoch: 12, Loss: 0.413903\n",
      "Epoch: 13, Loss: 0.323149\n",
      "Epoch: 14, Loss: 0.392230\n",
      "Epoch: 15, Loss: 0.381743\n",
      "Epoch: 16, Loss: 0.240899\n",
      "Epoch: 17, Loss: 0.400531\n",
      "Epoch: 18, Loss: 0.333019\n",
      "Epoch: 19, Loss: 0.402232\n",
      "Epoch: 20, Loss: 0.358307\n",
      "Epoch: 21, Loss: 0.117321\n",
      "Epoch: 22, Loss: 0.271958\n",
      "Epoch: 23, Loss: 0.201787\n",
      "Epoch: 24, Loss: 0.073590\n",
      "Epoch: 25, Loss: 0.167260\n",
      "Epoch: 26, Loss: 0.109803\n",
      "Epoch: 27, Loss: 0.376509\n",
      "Epoch: 28, Loss: 0.273178\n",
      "Epoch: 29, Loss: 0.056173\n",
      "Epoch: 30, Loss: 0.154359\n",
      "Epoch: 31, Loss: 0.327829\n",
      "Epoch: 32, Loss: 0.192236\n",
      "Epoch: 33, Loss: 0.243612\n",
      "Epoch: 34, Loss: 0.070247\n",
      "Epoch: 35, Loss: 0.080788\n",
      "Epoch: 36, Loss: 0.090627\n",
      "Epoch: 37, Loss: 0.145514\n",
      "Epoch: 38, Loss: 0.284148\n",
      "Epoch: 39, Loss: 0.049701\n",
      "Epoch: 40, Loss: 0.251678\n",
      "Epoch: 41, Loss: 0.348665\n",
      "Epoch: 42, Loss: 0.065340\n",
      "Epoch: 43, Loss: 0.135068\n",
      "Epoch: 44, Loss: 0.066149\n",
      "Epoch: 45, Loss: 0.107213\n",
      "Epoch: 46, Loss: 0.033430\n",
      "Epoch: 47, Loss: 0.020771\n",
      "Epoch: 48, Loss: 0.232096\n",
      "Epoch: 49, Loss: 0.141747\n",
      "Epoch: 50, Loss: 0.008392\n",
      "Epoch: 51, Loss: 0.033211\n",
      "Epoch: 52, Loss: 0.014383\n",
      "Epoch: 53, Loss: 0.053981\n",
      "Epoch: 54, Loss: 0.065359\n",
      "Epoch: 55, Loss: 0.018968\n",
      "Epoch: 56, Loss: 0.016260\n",
      "Epoch: 57, Loss: 0.003612\n",
      "Epoch: 58, Loss: 0.044489\n",
      "Epoch: 59, Loss: 0.021943\n",
      "Epoch: 60, Loss: 0.002504\n",
      "Epoch: 61, Loss: 0.822875\n",
      "Epoch: 62, Loss: 0.079800\n",
      "Epoch: 63, Loss: 0.009974\n",
      "Epoch: 64, Loss: 0.029644\n",
      "Epoch: 65, Loss: 0.004567\n",
      "Epoch: 66, Loss: 0.015884\n",
      "Epoch: 67, Loss: 0.002171\n",
      "Epoch: 68, Loss: 0.006698\n",
      "Epoch: 69, Loss: 0.002838\n",
      "Epoch: 70, Loss: 0.001717\n",
      "Epoch: 71, Loss: 0.005998\n",
      "Epoch: 72, Loss: 0.026443\n",
      "Epoch: 73, Loss: 0.013791\n",
      "Epoch: 74, Loss: 0.004017\n",
      "Epoch: 75, Loss: 0.001220\n",
      "Epoch: 76, Loss: 0.017861\n",
      "Epoch: 77, Loss: 0.028096\n",
      "Epoch: 78, Loss: 0.004890\n",
      "Epoch: 79, Loss: 0.002100\n",
      "Epoch: 80, Loss: 0.013101\n",
      "Epoch: 81, Loss: 0.000660\n",
      "Epoch: 82, Loss: 0.002971\n",
      "Epoch: 83, Loss: 0.000736\n",
      "Epoch: 84, Loss: 0.004843\n",
      "Epoch: 85, Loss: 0.000360\n",
      "Epoch: 86, Loss: 0.004591\n",
      "Epoch: 87, Loss: 0.000765\n",
      "Epoch: 88, Loss: 0.005469\n",
      "Epoch: 89, Loss: 0.003372\n",
      "Epoch: 90, Loss: 0.001323\n",
      "Epoch: 91, Loss: 0.002041\n",
      "Epoch: 92, Loss: 0.001869\n",
      "Epoch: 93, Loss: 0.002294\n",
      "Epoch: 94, Loss: 0.001893\n",
      "Epoch: 95, Loss: 0.001714\n",
      "Epoch: 96, Loss: 0.004698\n",
      "Epoch: 97, Loss: 0.010739\n",
      "Epoch: 98, Loss: 0.003328\n",
      "Epoch: 99, Loss: 0.005876\n"
     ]
    }
   ],
   "source": [
    "import torch\n",
    "import torch.nn as nn\n",
    "import torch.optim as optim\n",
    "\n",
    "# creates a dataloader:\n",
    "# - the dataset is divided into batches of 64 images\n",
    "# - data is shuffled at the beginning of each epoch\n",
    "train_loader = torch.utils.data.DataLoader(cifar2, batch_size=64, shuffle=True)\n",
    "\n",
    "# defines our model: a feedforward neural network\n",
    "model = nn.Sequential(\n",
    "            nn.Linear(3072, 1024), # linear layer: flattened 32x32 RGB image input, 1024 output\n",
    "            nn.Tanh(),             # hyperbolic tangent activation function to introduce non-linearity\n",
    "            nn.Linear(1024, 512),  \n",
    "            nn.Tanh(),             \n",
    "            nn.Linear(512, 128),   \n",
    "            nn.Tanh(),              \n",
    "            nn.Linear(128, 2))     # output size is 2: one output for each class: airplane and bird.\n",
    "\n",
    "# learning rate controls how much the model's parameters are updated during training\n",
    "learning_rate = 1e-2\n",
    "\n",
    "# Stochastic Gradient Descent (SGD) optimizer:\n",
    "# this is who updates parameters using gradients computed from a batch of data\n",
    "optimizer = optim.SGD(model.parameters(), lr=learning_rate)\n",
    "\n",
    "# cross-entropy loss function (commonly used for classification tasks)\n",
    "# it computes the difference between the predicted class probabilities and the true labels\n",
    "loss_fn = nn.CrossEntropyLoss()\n",
    "\n",
    "n_epochs = 100\n",
    "\n",
    "for epoch in range(n_epochs):         \n",
    "    for imgs, labels in train_loader:                  # iterates over batches of images and labels\n",
    "\n",
    "        outputs = model(imgs.view(imgs.shape[0], -1))  # compute model's prediction\n",
    "                                                       # we flatten each 32x32 RGB image into a 3072-dimensional vector\n",
    "                                                            \n",
    "        loss = loss_fn(outputs, labels)                # compute loss\n",
    "\n",
    "        optimizer.zero_grad()                          # reset gradients to prevent accumulation from previous batches\n",
    "        loss.backward()                                # compute gradients of the loss with respect to the model's params \n",
    "        optimizer.step()                               # update params\n",
    "\n",
    "    print(\"Epoch: %d, Loss: %f\" % (epoch, float(loss)))"
   ]
  },
  {
   "cell_type": "code",
   "execution_count": 23,
   "metadata": {},
   "outputs": [
    {
     "name": "stdout",
     "output_type": "stream",
     "text": [
      "Accuracy: 0.999900\n"
     ]
    }
   ],
   "source": [
    "# evaluate the model's accuracy on the training set\n",
    "\n",
    "train_loader = torch.utils.data.DataLoader(cifar2, batch_size=64, shuffle=False)\n",
    "\n",
    "correct = 0\n",
    "total = 0\n",
    "\n",
    "with torch.no_grad():\n",
    "    for imgs, labels in train_loader:\n",
    "        outputs = model(imgs.view(imgs.shape[0], -1))\n",
    "        _, predicted = torch.max(outputs, dim=1)\n",
    "        total += labels.shape[0]\n",
    "        correct += int((predicted == labels).sum())\n",
    "        \n",
    "print(\"Accuracy: %f\" % (correct / total))"
   ]
  },
  {
   "cell_type": "code",
   "execution_count": 24,
   "metadata": {},
   "outputs": [
    {
     "name": "stdout",
     "output_type": "stream",
     "text": [
      "Accuracy: 0.806000\n"
     ]
    }
   ],
   "source": [
    "# evaluate the model's accuracy on the validation set\n",
    "\n",
    "val_loader = torch.utils.data.DataLoader(cifar2_val, batch_size=64, shuffle=False)\n",
    "\n",
    "correct = 0\n",
    "total = 0\n",
    "\n",
    "with torch.no_grad():\n",
    "    for imgs, labels in val_loader:\n",
    "        outputs = model(imgs.view(imgs.shape[0], -1))\n",
    "        _, predicted = torch.max(outputs, dim=1)\n",
    "        total += labels.shape[0]\n",
    "        correct += int((predicted == labels).sum())\n",
    "        \n",
    "print(\"Accuracy: %f\" % (correct / total))"
   ]
  },
  {
   "cell_type": "markdown",
   "metadata": {},
   "source": [
    "Next step: CONVOLUTIONS!"
   ]
  }
 ],
 "metadata": {
  "kernelspec": {
   "display_name": "venv",
   "language": "python",
   "name": "python3"
  },
  "language_info": {
   "codemirror_mode": {
    "name": "ipython",
    "version": 3
   },
   "file_extension": ".py",
   "mimetype": "text/x-python",
   "name": "python",
   "nbconvert_exporter": "python",
   "pygments_lexer": "ipython3",
   "version": "3.12.3"
  }
 },
 "nbformat": 4,
 "nbformat_minor": 2
}
